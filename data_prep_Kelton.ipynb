{
 "cells": [
  {
   "metadata": {},
   "cell_type": "markdown",
   "source": "# Data Prep",
   "id": "4ff20077012f66b7"
  },
  {
   "metadata": {
    "ExecuteTime": {
     "end_time": "2024-12-06T01:23:05.545935Z",
     "start_time": "2024-12-06T01:23:05.539872Z"
    }
   },
   "cell_type": "code",
   "source": [
    "## import packages\n",
    "import pandas as pd\n",
    "import matplotlib.pyplot as plt\n",
    "import seaborn as sns\n",
    "import numpy as np\n",
    "\n",
    "# sklearn\n",
    "from sklearn.decomposition import PCA\n",
    "from sklearn.preprocessing import StandardScaler"
   ],
   "id": "21d3ef7fcf4360c9",
   "outputs": [],
   "execution_count": 50
  },
  {
   "metadata": {},
   "cell_type": "markdown",
   "source": "## Output options",
   "id": "d1056d0cb74d241d"
  },
  {
   "metadata": {
    "ExecuteTime": {
     "end_time": "2024-12-06T01:23:05.604509Z",
     "start_time": "2024-12-06T01:23:05.599595Z"
    }
   },
   "cell_type": "code",
   "source": [
    "## Exclude life expectancy from output csv?\n",
    "exclude_life_exp = True\n",
    "\n",
    "## Choose response variables to use\n",
    "resp_vars = ['HDM', 'PCT_DIABETES_ADULTS13']"
   ],
   "id": "a368f976c2ff9d1f",
   "outputs": [],
   "execution_count": 51
  },
  {
   "metadata": {},
   "cell_type": "markdown",
   "source": [
    "## Load Datasets\n",
    "Uncomment to load specific datasets. Not all are needed and the ones that are needed are read in later."
   ],
   "id": "7bc98eb19e802bc8"
  },
  {
   "metadata": {
    "ExecuteTime": {
     "end_time": "2024-12-06T01:23:05.614432Z",
     "start_time": "2024-12-06T01:23:05.604509Z"
    }
   },
   "cell_type": "code",
   "source": [
    "# ## FoodEnvironmentAtlas\n",
    "# variable_list = pd.read_csv('data/FoodEnvironmentAtlas/VariableList.csv')\n",
    "# supp_data_state = pd.read_csv('data/FoodEnvironmentAtlas/SupplementalDataState.csv')\n",
    "# supp_data_county = pd.read_csv('data/FoodEnvironmentAtlas/SupplementalDataCounty.csv')\n",
    "# state_county_data = pd.read_csv('data/FoodEnvironmentAtlas/StateAndCountyData.csv')\n",
    "# \n",
    "# ## HeartDiseaseMortality\n",
    "# heart_disease_mortality = pd.read_csv('data/HeartDiseaseMortality/Heart_Disease_Mortality.csv')\n",
    "# \n",
    "# ## LifeExpectancy\n",
    "# life_expectancy = pd.read_csv('data/LifeExpectancy/U.S._Life_Expectancy.csv')"
   ],
   "id": "1a0dcf2ceb12ebab",
   "outputs": [],
   "execution_count": 52
  },
  {
   "metadata": {},
   "cell_type": "markdown",
   "source": [
    "## Initial Feature Selection\n",
    "Note: more recent data was available for some features, but I chose to use data between the years of 2010-2015\n",
    "### Response/Dependent Variables\n",
    "1. \"PCT_DIABETES_ADULTS13\" (FoodEnvironmentalAtlas): % of adults with diabetes per county 2013\n",
    "2. \"Life Expectancy\" (U.S._Life_Expectancy): estimated life expectancy by census tract 2010-2015 (possibly uses median household for interpolation)\n",
    "3. \"Data_Value\" (Heart_Disease_Mortality): heart disease mortality per 100,000 people per county 2014\n",
    "### Independent Variables/Features\n",
    "From FoodEnvironmentAtlas. All to the county level unless otherwise specified.\n",
    "#### Socioeconomic\n",
    "1. “PCT_65OLDER10” - % 65 and older in 2010 \n",
    "2. “PCT_18YOUNGER10” - % 18 and younger in 2010 \n",
    "3. “MEDHHINC15” - median household income 2015 \n",
    "4. “POVRATE15” - poverty rate 2015 \n",
    "5. “METRO13” - metro/non-metro counties 2010 \n",
    "6. \"PCT_NHWHITE10\" - % population identifying as white 2010\n",
    "7. \"PCT_NHBLACK10\" - % population identifying as black 2010\n",
    "8. \"PCT_HISP10\" - % population identifying as Hispanic 2010\n",
    "#### Store access and food assistance \n",
    "1. “PCT_LACCESS_POP15” - % population with low access to store 2015 \n",
    "2. “PCT_LACCESS_LOWI15” - % low income and low access to store 2015 \n",
    "3. “PCT_LACCESS_HHNV15” - % households w no car and low access to store 2015 \n",
    "4. “PCT_LACCESS_SNAP15” - % SNAP households w low access to store 2015 \n",
    "5. “PCT_LACCESS_CHILD15” - % children w low access to store 2015 \n",
    "6. “PCT_LACCESS_SENIORS15” - % seniors w low access to store 2015 \n",
    "7. “GROC11” - grocery stores 2011 \n",
    "8. “SUPERC11” - supercenters and club stores 2011 \n",
    "9. “CONVS11” - convenience stores 2011 \n",
    "10. “SPECS11” - specialized food stores 2011 \n",
    "11. “SNAPSPTH12” - SNAP authorized stores per 1000 people 2012 \n",
    "12. “PC_SNAPBEN12” - SNAP benefits per capita 2012 \n",
    "#### Restaurant availability \n",
    "1. “FFR11” - fast food restaurants 2011 \n",
    "2. “FSR11” - full service restaurants 2011 \n",
    "#### Food tax (by state) \n",
    "1. “SODATAX_STORES14” - soda sales tax retail stores 2014 \n",
    "2. “SODATAX_VENDM14” - soda sales tax vending machines 2014 \n",
    "3. “CHIPSTAX_STORES14” - chips and pretzels sales tax retail stores 2014 \n",
    "4. “CHIPSTAX_VENDM14” - chips and pretzels sales tax vending machines 2014 \n",
    "5. “FOOD_TAX14” - general food sales tax 2014 \n",
    "#### Local foods \n",
    "1. “DIRSALES_FARMS12” - farms with direct sales 2012 \n",
    "2. “DIRSALES12” - direct farm sales 2012 ($1000s) \n",
    "3. “PC_DIRSALES12” - direct farm sales per capita 2012 ($1s) \n",
    "4. “FMRKT13” - farmers markets 2013 \n",
    "5. “FMRKT_SNAP13” - farmers markets that report accepting SNAP 2013 \n",
    "6. “PCT_FMRKT_FRVEG13” - % farmers markets that report selling fruits and vegetables 2013 \n",
    "7. “PCT_FMRKT_ANMLPROD13” - % farmers markets that report selling animal products 2013 \n",
    "8. “VEG_FARMS12” - vegetable farms 2012 \n",
    "9. “VEG_ACRES12” - vegetable acres harvested 2012 \n",
    "10. “ORCHARD_FARMS12” - orchard farms 2012 \n",
    "11. “ORCHARD_ACRES12” - orchard acres 2012 \n",
    "12. “BERRY_FARMS12” - berry farms 2012 \n",
    "13. “BERRY_ACRES12” - berry acres 2012 \n",
    "14. “SLHOUSE12” - small slaughterhouse facilities 2012 \n",
    "15. “GHVEG_FARMS12” - greenhouse veg and herb farms 2012 \n",
    "16. “CSA12” - CSA farms 2012 \n",
    "17. “AGRITRSM_OPS12” - agritourism operations 2012 \n",
    "18. “AGRITRSM_RCT12” - agritourism receipts 2012 ($1s) \n",
    "#### Recreation and fitness \n",
    "1. “RECFAC11” - recreation and fitness facilities 2011 \n",
    "#### Supplemental data \n",
    "1. 2010 census population "
   ],
   "id": "9764ff9fe06f2828"
  },
  {
   "metadata": {
    "ExecuteTime": {
     "end_time": "2024-12-06T01:23:06.512507Z",
     "start_time": "2024-12-06T01:23:05.639678Z"
    }
   },
   "cell_type": "code",
   "source": [
    "## List of features to keep from state_county_data\n",
    "state_county_features = [\"PCT_DIABETES_ADULTS13\", \"PCT_65OLDER10\", \"PCT_18YOUNGER10\", \"MEDHHINC15\", \"POVRATE15\", \"METRO13\", \"PCT_LACCESS_POP15\", \"PCT_LACCESS_LOWI15\", \"PCT_LACCESS_HHNV15\", \"PCT_LACCESS_SNAP15\", \"PCT_LACCESS_CHILD15\", \"PCT_LACCESS_SENIORS15\", \"GROC11\", \"SUPERC11\", \"CONVS11\", \"SPECS11\", \"SNAPSPTH12\", \"PC_SNAPBEN12\", \"FFR11\", \"FSR11\", \"SODATAX_STORES14\", \"SODATAX_VENDM14\", \"CHIPSTAX_STORES14\", \"CHIPSTAX_VENDM14\", \"FOOD_TAX14\", \"DIRSALES_FARMS12\", \"DIRSALES12\", \"PC_DIRSALES12\", \"FMRKT13\", \"FMRKT_SNAP13\", \"PCT_FMRKT_FRVEG13\", \"PCT_FMRKT_ANMLPROD13\", \"VEG_FARMS12\", \"VEG_ACRES12\", \"ORCHARD_FARMS12\", \"ORCHARD_ACRES12\", \"BERRY_FARMS12\", \"BERRY_ACRES12\", \"SLHOUSE12\", \"GHVEG_FARMS12\", \"CSA12\", \"AGRITRSM_OPS12\", \"AGRITRSM_RCT12\", \"RECFAC11\", \"PCT_NHWHITE10\", \"PCT_NHBLACK10\", \"PCT_HISP10\"]\n",
    "\n",
    "## Select features from state_county_data and tidy dataframe\n",
    "state_county_data = pd.read_csv('data/FoodEnvironmentAtlas/StateAndCountyData.csv')\n",
    "state_county_data['CountySt'] = state_county_data['County'].str.cat(state_county_data['State'], sep=', ')\n",
    "df = state_county_data[state_county_data[\"Variable_Code\"].isin(state_county_features)].pivot_table(index=\"CountySt\", columns=\"Variable_Code\", values=\"Value\", aggfunc='max')\n",
    "del state_county_data\n",
    "\n",
    "## Merge supplementary data (2010 Census Population)\n",
    "supp_data_county = pd.read_csv('data/FoodEnvironmentAtlas/SupplementalDataCounty.csv')\n",
    "supp_data_county['County'] = [c if 'County' not in c else c[:-7] for c in supp_data_county['County']]\n",
    "supp_data_county['CountySt'] = supp_data_county['County'].str.cat(supp_data_county['State'], sep=',')\n",
    "supp_data_county = supp_data_county.pivot(index=\"CountySt\", columns=\"Variable_Code\", values=\"Value\")\n",
    "df = df.join(supp_data_county, how=\"left\")\n",
    "df.drop(supp_data_county.columns[1:], axis=1, inplace=True)\n",
    "del supp_data_county\n",
    "\n",
    "## Merge heart disease mortality\n",
    "hdm = pd.read_csv('data/HeartDiseaseMortality/Heart_Disease_Mortality.csv')\n",
    "hdm = hdm.loc[(hdm[\"Stratification1\"]==\"Overall\") & (hdm[\"Stratification2\"]==\"Overall\"), [\"LocationAbbr\", \"LocationDesc\", \"Data_Value\"]]\n",
    "hdm.rename(columns={'LocationAbbr': 'State', 'LocationDesc': 'County', 'Data_Value': 'HDM'}, inplace=True)\n",
    "hdm['County'] = [c if 'County' not in c else c[:-7] for c in hdm['County']]\n",
    "hdm['CountySt'] = hdm['County'].str.cat(hdm['State'], sep=', ')\n",
    "hdm.drop(['State', 'County'], axis=1, inplace=True)\n",
    "hdm.set_index('CountySt', inplace=True)\n",
    "df = df.join(hdm, how='left')\n",
    "del hdm\n",
    "\n",
    "## Merge life expectancy\n",
    "life_expectancy = pd.read_csv('data/LifeExpectancy/U.S._Life_Expectancy.csv')\n",
    "life_expectancy.dropna(axis=0, how='any', inplace=True)\n",
    "life_expectancy['County'] = life_expectancy['County'].str.replace(' County', '')\n",
    "life_expectancy.rename(columns={'County': 'CountySt'}, inplace=True)\n",
    "life_expectancy = life_expectancy[['CountySt','Life Expectancy']].groupby(['CountySt']).mean()\n",
    "df = df.join(life_expectancy, how='left')\n",
    "del life_expectancy\n",
    "\n",
    "## Remove duplicated indices\n",
    "df = df.groupby(level=0).max()"
   ],
   "id": "854fd01daec2f281",
   "outputs": [],
   "execution_count": 53
  },
  {
   "metadata": {},
   "cell_type": "markdown",
   "source": [
    "## Compare Response Variables\n",
    "### Pairplot\n",
    "All 3 variables appear somewhat normally distributed, or could approximate normal with log transformation.\n",
    "### Heatmap\n",
    "Diabetes rate and heart disease mortality are positively correlated as expected. Both variables are negatively correlated with life expectancy as expected."
   ],
   "id": "1ab1722fbaa1b4c1"
  },
  {
   "metadata": {
    "ExecuteTime": {
     "end_time": "2024-12-06T01:23:06.542474Z",
     "start_time": "2024-12-06T01:23:06.538071Z"
    }
   },
   "cell_type": "code",
   "source": [
    "# sns.pairplot(df, vars=['HDM', 'Life Expectancy', 'PCT_DIABETES_ADULTS13'], corner=True, diag_kind='kde', kind='kde')\n",
    "# plt.suptitle('Response variable pairplot kde')\n",
    "# plt.savefig('data/figures/Response variable pairplot.png')\n",
    "# plt.show()"
   ],
   "id": "d1ce8d0725d4901d",
   "outputs": [],
   "execution_count": 54
  },
  {
   "metadata": {
    "ExecuteTime": {
     "end_time": "2024-12-06T01:23:06.573462Z",
     "start_time": "2024-12-06T01:23:06.567954Z"
    }
   },
   "cell_type": "code",
   "source": [
    "# sns.heatmap(df[['HDM', 'Life Expectancy', 'PCT_DIABETES_ADULTS13']].corr(), annot=True)\n",
    "# plt.title('Response variable correlations')\n",
    "# plt.savefig('data/figures/Response variable corr heatmap.png')\n",
    "# plt.show()"
   ],
   "id": "6022259cdb1de5de",
   "outputs": [],
   "execution_count": 55
  },
  {
   "metadata": {},
   "cell_type": "markdown",
   "source": [
    "## Response Variable PCA\n",
    "Perform dimensionality reduction on the possible response variables to obtain a single response variable capturing the trends in all.\n",
    "### Pairplot\n",
    "The contour plots between PC1 and the response variables are noticeably less variable than the contour plots between the response variables themselves (above).\n",
    "### Heatmap\n",
    "Likewise, the correlation coefficients are greater as well.\n",
    "### Note\n",
    "PC1 is positively correlated with heart disease mortality and diabetes rate, meaning that <b>greater</b> values of PC1 indicate <b>worse</b> health"
   ],
   "id": "d3fe2bb5ca30ece"
  },
  {
   "metadata": {
    "ExecuteTime": {
     "end_time": "2024-12-06T01:23:06.623551Z",
     "start_time": "2024-12-06T01:23:06.604019Z"
    }
   },
   "cell_type": "code",
   "source": [
    "# Print selected response variables\n",
    "print(f'Selected Response Variables: {resp_vars}')\n",
    "\n",
    "# Select response variables and standardize\n",
    "pca_df = df[resp_vars].copy()\n",
    "pca_df.dropna(axis=0, how='any', inplace=True)\n",
    "pca_df[resp_vars] = StandardScaler().fit_transform(pca_df)\n",
    "\n",
    "# PCA fit, transform, calculate explained variance\n",
    "explained_var = PCA(random_state=10).fit(pca_df).explained_variance_ratio_\n",
    "pca_df['PCA'] = PCA(random_state=10, n_components=1).fit_transform(pca_df)\n",
    "print(f'Explained variance ratios: {explained_var}')\n",
    "\n",
    "# count nans in response variables\n",
    "df[resp_vars].isna().sum()\n",
    "print(f'% data retained after removing response variable nans: {pca_df.shape[0] / df.shape[0]*100:.2f}%\\n')\n",
    "\n",
    "# merge PCA response variable\n",
    "df = df.join(pca_df['PCA'], how='left')\n",
    "df.drop(['HDM', 'Life Expectancy', 'PCT_DIABETES_ADULTS13'], axis=1, inplace=True)\n",
    "\n",
    "# # compare first principle component with raw response variables\n",
    "# sns.pairplot(pca_df, x_vars=resp_vars, y_vars=['PCA'], kind='kde')\n",
    "# plt.title('Response variable PCA pairplot kde')\n",
    "# plt.savefig('data/figures/Response variable PCA pairplot.png')\n",
    "# plt.show()\n",
    "# \n",
    "# # display correlations between response variables\n",
    "# sns.heatmap(pca_df.corr(), annot=True)\n",
    "# plt.title('Response variable PCA correlations')\n",
    "# plt.savefig('data/figures/Response variable PCA corr heatmap.png')\n",
    "# plt.show()"
   ],
   "id": "f4aa0a1a81b3d532",
   "outputs": [
    {
     "name": "stdout",
     "output_type": "stream",
     "text": [
      "Selected Response Variables: ['HDM', 'PCT_DIABETES_ADULTS13']\n",
      "Explained variance ratios: [0.79920531 0.20079469]\n",
      "% data retained after removing response variable nans: 96.59%\n",
      "\n"
     ]
    }
   ],
   "execution_count": 56
  },
  {
   "metadata": {},
   "cell_type": "markdown",
   "source": [
    "## Collinearity\n",
    "Check for collinear variables.\n",
    "### Drop redundant collinear variables\n",
    "1. 'CHIPSTAX_STORES14'\n",
    "2. 'PCT_LACCESS_CHILD15'\n",
    "3. 'PCT_LACCESS_SENIORS15'\n",
    "4. 'PCT_LACCESS_LOWI15'\n",
    "5. 'PC_SNAPBEN12'\n",
    "### Other collinear variables\n",
    "Store (grocery, convenience, specialty, supercenter, and farmers market), restaurant (fast food and full service), and recreational facility counts are highly correlated with census population.\n",
    "#### Strategy\n",
    "1. \"healthy_store_ratio\" = ratio between stores with \"healthy\" options (grocery + specialty + supercenter) : stores without healthy options (convenience).\n",
    "2. \"healthy_restaurant_ratio\" = ratio between full service : fast food restaurants.\n",
    "3. \"recfac_pc\" = recreational facilities per capita (RECFAC11 / 2010_Census_Population)\n",
    "4. \"fmrkt_pc\" = farmers markets per capita (FMRKT13 / 2010_Census_Population)"
   ],
   "id": "90b14c411dc556f8"
  },
  {
   "metadata": {
    "ExecuteTime": {
     "end_time": "2024-12-06T01:23:06.811191Z",
     "start_time": "2024-12-06T01:23:06.694203Z"
    }
   },
   "cell_type": "code",
   "source": [
    "# check for collinearity\n",
    "corr = df.corr().abs().unstack()\n",
    "corr = corr.sort_values(ascending=False)\n",
    "print('__________\\nCollinear features\\n__________')\n",
    "print('\\n'.join([f'{c1}, {c2}: {corr[c1,c2]:.4f}' for c1, c2 in corr.index if c1 != c2 and corr[c1,c2] > 0.7]))\n",
    "\n",
    "# make sure CONVS11 and FFR11 don't have zeros\n",
    "print('__________')\n",
    "print(f'# zeros in CONVS11: {(df['CONVS11'] == 0).sum(axis=0)}')\n",
    "print(f'# zeros in FFR11: {(df['FFR11'] == 0).sum(axis=0)}')\n",
    "\n",
    "# calculate ratios (add 1s to avoid divide by zero)\n",
    "df['healthy_store_ratio'] = (df['GROC11'] + df['SPECS11'] + df['SUPERC11'] + 1) / (df['CONVS11'] + 1)\n",
    "df['healthy_restaurant_ratio'] = (df['FSR11'] + 1) / (df['FFR11'] + 1)\n",
    "df['recfac_pc'] = df['RECFAC11'] / df['2010_Census_Population']\n",
    "df['fmrkt_pc'] = df['FMRKT13'] / df['2010_Census_Population']\n",
    "\n",
    "# drop collinear variables\n",
    "df.drop(['CHIPSTAX_STORES14', 'PCT_LACCESS_CHILD15', 'PCT_LACCESS_SENIORS15', 'PCT_LACCESS_LOWI15', 'PC_SNAPBEN12', 'GROC11', 'SPECS11', 'SUPERC11', 'CONVS11', 'FSR11', 'FFR11', 'RECFAC11', 'FMRKT13'], axis=1, inplace=True)\n",
    "\n",
    "# recheck collinearity\n",
    "corr = df.corr().abs().unstack()\n",
    "corr = corr.sort_values(ascending=False)\n",
    "print('__________\\nCollinear features (after ratios and removal)\\n__________')\n",
    "print('\\n'.join([f'{c1}, {c2}: {corr[c1,c2]:.4f}' for c1, c2 in corr.index if c1 != c2 and corr[c1,c2] > 0.7]))"
   ],
   "id": "389076785661127f",
   "outputs": [
    {
     "name": "stdout",
     "output_type": "stream",
     "text": [
      "__________\n",
      "Collinear features\n",
      "__________\n",
      "FOOD_TAX14, CHIPSTAX_STORES14: 1.0000\n",
      "CHIPSTAX_STORES14, FOOD_TAX14: 1.0000\n",
      "FFR11, 2010_Census_Population: 0.9888\n",
      "2010_Census_Population, FFR11: 0.9888\n",
      "FFR11, FSR11: 0.9746\n",
      "FSR11, FFR11: 0.9746\n",
      "SPECS11, GROC11: 0.9680\n",
      "GROC11, SPECS11: 0.9680\n",
      "RECFAC11, FSR11: 0.9590\n",
      "FSR11, RECFAC11: 0.9590\n",
      "PCT_LACCESS_POP15, PCT_LACCESS_CHILD15: 0.9562\n",
      "PCT_LACCESS_CHILD15, PCT_LACCESS_POP15: 0.9562\n",
      "FSR11, 2010_Census_Population: 0.9522\n",
      "2010_Census_Population, FSR11: 0.9522\n",
      "RECFAC11, FFR11: 0.9448\n",
      "FFR11, RECFAC11: 0.9448\n",
      "SPECS11, FSR11: 0.9263\n",
      "FSR11, SPECS11: 0.9263\n",
      "2010_Census_Population, RECFAC11: 0.9260\n",
      "RECFAC11, 2010_Census_Population: 0.9260\n",
      "CONVS11, 2010_Census_Population: 0.9228\n",
      "2010_Census_Population, CONVS11: 0.9228\n",
      "FFR11, SPECS11: 0.9177\n",
      "SPECS11, FFR11: 0.9177\n",
      "PCT_LACCESS_POP15, PCT_LACCESS_SENIORS15: 0.9086\n",
      "PCT_LACCESS_SENIORS15, PCT_LACCESS_POP15: 0.9086\n",
      "FFR11, CONVS11: 0.9049\n",
      "CONVS11, FFR11: 0.9049\n",
      "PCT_LACCESS_LOWI15, PCT_LACCESS_POP15: 0.9027\n",
      "PCT_LACCESS_POP15, PCT_LACCESS_LOWI15: 0.9027\n",
      "SPECS11, 2010_Census_Population: 0.9003\n",
      "2010_Census_Population, SPECS11: 0.9003\n",
      "PCT_LACCESS_LOWI15, PCT_LACCESS_CHILD15: 0.8905\n",
      "PCT_LACCESS_CHILD15, PCT_LACCESS_LOWI15: 0.8905\n",
      "RECFAC11, SPECS11: 0.8747\n",
      "SPECS11, RECFAC11: 0.8747\n",
      "GROC11, FFR11: 0.8721\n",
      "FFR11, GROC11: 0.8721\n",
      "GROC11, FSR11: 0.8663\n",
      "FSR11, GROC11: 0.8663\n",
      "RECFAC11, CONVS11: 0.8634\n",
      "CONVS11, RECFAC11: 0.8634\n",
      "FSR11, CONVS11: 0.8629\n",
      "CONVS11, FSR11: 0.8629\n",
      "GROC11, 2010_Census_Population: 0.8554\n",
      "2010_Census_Population, GROC11: 0.8554\n",
      "SUPERC11, CONVS11: 0.8521\n",
      "CONVS11, SUPERC11: 0.8521\n",
      "RECFAC11, FMRKT13: 0.8320\n",
      "FMRKT13, RECFAC11: 0.8320\n",
      "PCT_LACCESS_SNAP15, PCT_LACCESS_LOWI15: 0.8256\n",
      "PCT_LACCESS_LOWI15, PCT_LACCESS_SNAP15: 0.8256\n",
      "FSR11, FMRKT13: 0.8209\n",
      "FMRKT13, FSR11: 0.8209\n",
      "FMRKT13, FFR11: 0.8174\n",
      "FFR11, FMRKT13: 0.8174\n",
      "POVRATE15, PC_SNAPBEN12: 0.8081\n",
      "PC_SNAPBEN12, POVRATE15: 0.8081\n",
      "RECFAC11, GROC11: 0.8079\n",
      "GROC11, RECFAC11: 0.8079\n",
      "FMRKT13, 2010_Census_Population: 0.8069\n",
      "2010_Census_Population, FMRKT13: 0.8069\n",
      "PCT_LACCESS_SENIORS15, PCT_LACCESS_CHILD15: 0.8018\n",
      "PCT_LACCESS_CHILD15, PCT_LACCESS_SENIORS15: 0.8018\n",
      "PCT_LACCESS_LOWI15, PCT_LACCESS_SENIORS15: 0.8012\n",
      "PCT_LACCESS_SENIORS15, PCT_LACCESS_LOWI15: 0.8012\n",
      "POVRATE15, MEDHHINC15: 0.7811\n",
      "MEDHHINC15, POVRATE15: 0.7811\n",
      "FMRKT13, SPECS11: 0.7811\n",
      "SPECS11, FMRKT13: 0.7811\n",
      "SODATAX_STORES14, SODATAX_VENDM14: 0.7768\n",
      "SODATAX_VENDM14, SODATAX_STORES14: 0.7768\n",
      "2010_Census_Population, SUPERC11: 0.7669\n",
      "SUPERC11, 2010_Census_Population: 0.7669\n",
      "DIRSALES_FARMS12, CSA12: 0.7665\n",
      "CSA12, DIRSALES_FARMS12: 0.7665\n",
      "SPECS11, CONVS11: 0.7637\n",
      "CONVS11, SPECS11: 0.7637\n",
      "GROC11, FMRKT13: 0.7579\n",
      "FMRKT13, GROC11: 0.7579\n",
      "SUPERC11, FFR11: 0.7478\n",
      "FFR11, SUPERC11: 0.7478\n",
      "CSA12, GHVEG_FARMS12: 0.7469\n",
      "GHVEG_FARMS12, CSA12: 0.7469\n",
      "DIRSALES_FARMS12, VEG_FARMS12: 0.7416\n",
      "VEG_FARMS12, DIRSALES_FARMS12: 0.7416\n",
      "GROC11, CONVS11: 0.7193\n",
      "CONVS11, GROC11: 0.7193\n",
      "CONVS11, FMRKT13: 0.7179\n",
      "FMRKT13, CONVS11: 0.7179\n",
      "RECFAC11, SUPERC11: 0.7171\n",
      "SUPERC11, RECFAC11: 0.7171\n",
      "DIRSALES_FARMS12, DIRSALES12: 0.7144\n",
      "DIRSALES12, DIRSALES_FARMS12: 0.7144\n",
      "CSA12, DIRSALES12: 0.7132\n",
      "DIRSALES12, CSA12: 0.7132\n",
      "CHIPSTAX_VENDM14, SODATAX_VENDM14: 0.7052\n",
      "SODATAX_VENDM14, CHIPSTAX_VENDM14: 0.7052\n",
      "DIRSALES_FARMS12, BERRY_FARMS12: 0.7017\n",
      "BERRY_FARMS12, DIRSALES_FARMS12: 0.7017\n",
      "__________\n",
      "# zeros in CONVS11: 51\n",
      "# zeros in FFR11: 164\n",
      "__________\n",
      "Collinear features (after ratios and removal)\n",
      "__________\n",
      "POVRATE15, MEDHHINC15: 0.7811\n",
      "MEDHHINC15, POVRATE15: 0.7811\n",
      "SODATAX_STORES14, SODATAX_VENDM14: 0.7768\n",
      "SODATAX_VENDM14, SODATAX_STORES14: 0.7768\n",
      "CSA12, DIRSALES_FARMS12: 0.7665\n",
      "DIRSALES_FARMS12, CSA12: 0.7665\n",
      "GHVEG_FARMS12, CSA12: 0.7469\n",
      "CSA12, GHVEG_FARMS12: 0.7469\n",
      "DIRSALES_FARMS12, VEG_FARMS12: 0.7416\n",
      "VEG_FARMS12, DIRSALES_FARMS12: 0.7416\n",
      "DIRSALES_FARMS12, DIRSALES12: 0.7144\n",
      "DIRSALES12, DIRSALES_FARMS12: 0.7144\n",
      "DIRSALES12, CSA12: 0.7132\n",
      "CSA12, DIRSALES12: 0.7132\n",
      "CHIPSTAX_VENDM14, SODATAX_VENDM14: 0.7052\n",
      "SODATAX_VENDM14, CHIPSTAX_VENDM14: 0.7052\n",
      "DIRSALES_FARMS12, BERRY_FARMS12: 0.7017\n",
      "BERRY_FARMS12, DIRSALES_FARMS12: 0.7017\n"
     ]
    }
   ],
   "execution_count": 57
  },
  {
   "metadata": {},
   "cell_type": "markdown",
   "source": "## Nan Analysis",
   "id": "4e4c3f7ae76dc244"
  },
  {
   "metadata": {
    "ExecuteTime": {
     "end_time": "2024-12-06T01:23:06.848831Z",
     "start_time": "2024-12-06T01:23:06.837070Z"
    }
   },
   "cell_type": "code",
   "source": [
    "# count nans in all variables\n",
    "nan_count = df.isna().sum()\n",
    "print('__________\\nFeatures with >5% nans\\n__________\\n')\n",
    "print(nan_count[nan_count > 0.05*df.shape[0]].sort_values(ascending=False))\n",
    "\n",
    "# drop variables with >5% nans (except census population)\n",
    "df.drop(['AGRITRSM_RCT12', 'BERRY_ACRES12', 'DIRSALES12', 'ORCHARD_ACRES12', 'PC_DIRSALES12', 'VEG_ACRES12'], axis=1, inplace=True)\n",
    "\n",
    "# % counties without nans\n",
    "print(f'counties without nans = {df.dropna(axis=0).shape[0]}, {df.dropna(axis=0).shape[0]/df.shape[0]*100:.2f}%')"
   ],
   "id": "83d256f383dce07",
   "outputs": [
    {
     "name": "stdout",
     "output_type": "stream",
     "text": [
      "__________\n",
      "Features with >5% nans\n",
      "__________\n",
      "\n",
      "AGRITRSM_RCT12            1017\n",
      "BERRY_ACRES12              802\n",
      "ORCHARD_ACRES12            589\n",
      "VEG_ACRES12                555\n",
      "PC_DIRSALES12              236\n",
      "DIRSALES12                 235\n",
      "2010_Census_Population     195\n",
      "recfac_pc                  195\n",
      "fmrkt_pc                   195\n",
      "dtype: int64\n",
      "counties without nans = 2920, 93.11%\n"
     ]
    }
   ],
   "execution_count": 58
  }
 ],
 "metadata": {
  "kernelspec": {
   "display_name": "Python 3",
   "language": "python",
   "name": "python3"
  },
  "language_info": {
   "codemirror_mode": {
    "name": "ipython",
    "version": 2
   },
   "file_extension": ".py",
   "mimetype": "text/x-python",
   "name": "python",
   "nbconvert_exporter": "python",
   "pygments_lexer": "ipython2",
   "version": "2.7.6"
  }
 },
 "nbformat": 4,
 "nbformat_minor": 5
}
