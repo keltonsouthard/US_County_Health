{
 "cells": [
  {
   "metadata": {},
   "cell_type": "markdown",
   "source": "# EDA and data prep",
   "id": "4ff20077012f66b7"
  },
  {
   "metadata": {
    "ExecuteTime": {
     "end_time": "2024-12-05T22:24:25.122310Z",
     "start_time": "2024-12-05T22:24:25.115542Z"
    }
   },
   "cell_type": "code",
   "source": [
    "## import packages\n",
    "import pandas as pd\n",
    "import matplotlib.pyplot as plt\n",
    "import seaborn as sns\n",
    "import numpy as np"
   ],
   "id": "21d3ef7fcf4360c9",
   "outputs": [],
   "execution_count": 1
  },
  {
   "metadata": {},
   "cell_type": "markdown",
   "source": "## Output options",
   "id": "d1056d0cb74d241d"
  },
  {
   "metadata": {
    "ExecuteTime": {
     "end_time": "2024-12-05T22:25:46.917402Z",
     "start_time": "2024-12-05T22:25:46.902710Z"
    }
   },
   "cell_type": "code",
   "source": [
    "## Exclude life expectancy from output csv?\n",
    "exclude_life_exp = True"
   ],
   "id": "a368f976c2ff9d1f",
   "outputs": [],
   "execution_count": 2
  },
  {
   "metadata": {},
   "cell_type": "markdown",
   "source": [
    "## Load Datasets\n",
    "Uncomment to load specific datasets. Not all are needed and the ones that are needed are read in later."
   ],
   "id": "7bc98eb19e802bc8"
  },
  {
   "metadata": {
    "ExecuteTime": {
     "end_time": "2024-12-05T22:27:12.754567Z",
     "start_time": "2024-12-05T22:27:11.439336Z"
    }
   },
   "cell_type": "code",
   "source": [
    "# ## FoodEnvironmentAtlas\n",
    "# variable_list = pd.read_csv('data/FoodEnvironmentAtlas/VariableList.csv')\n",
    "# supp_data_state = pd.read_csv('data/FoodEnvironmentAtlas/SupplementalDataState.csv')\n",
    "# supp_data_county = pd.read_csv('data/FoodEnvironmentAtlas/SupplementalDataCounty.csv')\n",
    "# state_county_data = pd.read_csv('data/FoodEnvironmentAtlas/StateAndCountyData.csv')\n",
    "# \n",
    "# ## HeartDiseaseMortality\n",
    "# heart_disease_mortality = pd.read_csv('data/HeartDiseaseMortality/Heart_Disease_Mortality.csv')\n",
    "# \n",
    "# ## LifeExpectancy\n",
    "# life_expectancy = pd.read_csv('data/LifeExpectancy/U.S._Life_Expectancy.csv')"
   ],
   "id": "1a0dcf2ceb12ebab",
   "outputs": [],
   "execution_count": 3
  },
  {
   "metadata": {},
   "cell_type": "markdown",
   "source": [
    "## Initial Feature Selection\n",
    "Note: more recent data was available for some features, but I chose to use data between the years of 2010-2015\n",
    "### Response/Dependent Variables\n",
    "1. \"PCT_DIABETES_ADULTS13\" (FoodEnvironmentalAtlas): % of adults with diabetes per county 2013\n",
    "2. \"Life Expectancy\" (U.S._Life_Expectancy): estimated life expectancy by census tract 2010-2015 (possibly uses median household for interpolation)\n",
    "3. \"Data_Value\" (Heart_Disease_Mortality): heart disease mortality per 100,000 people per county 2014\n",
    "### Independent Variables/Features\n",
    "From FoodEnvironmentAtlas. All to the county level unless otherwise specified.\n",
    "#### Socioeconomic\n",
    "1. “PCT_65OLDER10” - % 65 and older in 2010 \n",
    "2. “PCT_18YOUNGER10” - % 18 and younger in 2010 \n",
    "3. “MEDHHINC15” - median household income 2015 \n",
    "4. “POVRATE15” - poverty rate 2015 \n",
    "5. “METRO13” - metro/non-metro counties 2010 \n",
    "6. \"PCT_NHWHITE10\" - % population identifying as white 2010\n",
    "7. \"PCT_NHBLACK10\" - % population identifying as black 2010\n",
    "8. \"PCT_HISP10\" - % population identifying as Hispanic 2010\n",
    "#### Store access and food assistance \n",
    "1. “PCT_LACCESS_POP15” - % population with low access to store 2015 \n",
    "2. “PCT_LACCESS_LOWI15” - % low income and low access to store 2015 \n",
    "3. “PCT_LACCESS_HHNV15” - % households w no car and low access to store 2015 \n",
    "4. “PCT_LACCESS_SNAP15” - % SNAP households w low access to store 2015 \n",
    "5. “PCT_LACCESS_CHILD15” - % children w low access to store 2015 \n",
    "6. “PCT_LACCESS_SENIORS15” - % seniors w low access to store 2015 \n",
    "7. “GROC11” - grocery stores 2011 \n",
    "8. “SUPERC11” - supercenters and club stores 2011 \n",
    "9. “CONVS11” - convenience stores 2011 \n",
    "10. “SPECS11” - specialized food stores 2011 \n",
    "11. “SNAPSPTH12” - SNAP authorized stores per 1000 people 2012 \n",
    "12. “PC_SNAPBEN12” - SNAP benefits per capita 2012 \n",
    "#### Restaurant availability \n",
    "1. “FFR11” - fast food restaurants 2011 \n",
    "2. “FSR11” - full service restaurants 2011 \n",
    "#### Food tax (by state) \n",
    "1. “SODATAX_STORES14” - soda sales tax retail stores 2014 \n",
    "2. “SODATAX_VENDM14” - soda sales tax vending machines 2014 \n",
    "3. “CHIPSTAX_STORES14” - chips and pretzels sales tax retail stores 2014 \n",
    "4. “CHIPSTAX_VENDM14” - chips and pretzels sales tax vending machines 2014 \n",
    "5. “FOOD_TAX14” - general food sales tax 2014 \n",
    "#### Local foods \n",
    "1. “DIRSALES_FARMS12” - farms with direct sales 2012 \n",
    "2. “DIRSALES12” - direct farm sales 2012 ($1000s) \n",
    "3. “PC_DIRSALES12” - direct farm sales per capita 2012 ($1s) \n",
    "4. “FMRKT13” - farmers markets 2013 \n",
    "5. “FMRKT_SNAP13” - farmers markets that report accepting SNAP 2013 \n",
    "6. “PCT_FMRKT_FRVEG13” - % farmers markets that report selling fruits and vegetables 2013 \n",
    "7. “PCT_FMRKT_ANMLPROD13” - % farmers markets that report selling animal products 2013 \n",
    "8. “VEG_FARMS12” - vegetable farms 2012 \n",
    "9. “VEG_ACRES12” - vegetable acres harvested 2012 \n",
    "10. “ORCHARD_FARMS12” - orchard farms 2012 \n",
    "11. “ORCHARD_ACRES12” - orchard acres 2012 \n",
    "12. “BERRY_FARMS12” - berry farms 2012 \n",
    "13. “BERRY_ACRES12” - berry acres 2012 \n",
    "14. “SLHOUSE12” - small slaughterhouse facilities 2012 \n",
    "15. “GHVEG_FARMS12” - greenhouse veg and herb farms 2012 \n",
    "16. “CSA12” - CSA farms 2012 \n",
    "17. “AGRITRSM_OPS12” - agritourism operations 2012 \n",
    "18. “AGRITRSM_RCT12” - agritourism receipts 2012 ($1s) \n",
    "#### Recreation and fitness \n",
    "1. “RECFAC11” - recreation and fitness facilities 2011 \n",
    "#### Supplemental data \n",
    "1. 2010 census population "
   ],
   "id": "9764ff9fe06f2828"
  },
  {
   "metadata": {
    "ExecuteTime": {
     "end_time": "2024-12-05T22:28:25.075269Z",
     "start_time": "2024-12-05T22:28:25.070940Z"
    }
   },
   "cell_type": "code",
   "source": [
    "## List of features to keep from state_county_data\n",
    "state_county_features = [\"PCT_DIABETES_ADULTS13\", \"PCT_65OLDER10\", \"PCT_18YOUNGER10\", \"MEDHHINC15\", \"POVRATE15\", \"METRO13\", \"PCT_LACCESS_POP15\", \"PCT_LACCESS_LOWI15\", \"PCT_LACCESS_HHNV15\", \"PCT_LACCESS_SNAP15\", \"PCT_LACCESS_CHILD15\", \"PCT_LACCESS_SENIORS15\", \"GROC11\", \"SUPERC11\", \"CONVS11\", \"SPECS11\", \"SNAPSPTH12\", \"PC_SNAPBEN12\", \"FFR11\", \"FSR11\", \"SODATAX_STORES14\", \"SODATAX_VENDM14\", \"CHIPSTAX_STORES14\", \"CHIPSTAX_VENDM14\", \"FOOD_TAX14\", \"DIRSALES_FARMS12\", \"DIRSALES12\", \"PC_DIRSALES12\", \"FMRKT13\", \"FMRKT_SNAP13\", \"PCT_FMRKT_FRVEG13\", \"PCT_FMRKT_ANMLPROD13\", \"VEG_FARMS12\", \"VEG_ACRES12\", \"ORCHARD_FARMS12\", \"ORCHARD_ACRES12\", \"BERRY_FARMS12\", \"BERRY_ACRES12\", \"SLHOUSE12\", \"GHVEG_FARMS12\", \"CSA12\", \"AGRITRSM_OPS12\", \"AGRITRSM_RCT12\", \"RECFAC11\", \"PCT_NHWHITE10\", \"PCT_NHBLACK10\", \"PCT_HISP10\"]\n",
    "\n",
    "## Select features and tidy dataframe\n",
    "state_county_data = pd.read_csv('data/FoodEnvironmentAtlas/StateAndCountyData.csv')\n",
    "state_county_data['CountySt'] = state_county_data['County'].str.cat(state_county_data['State'], sep=', ')\n",
    "df = state_county_data[state_county_data[\"Variable_Code\"].isin(state_county_features)].pivot_table(index=\"CountySt\", columns=\"Variable_Code\", values=\"Value\", aggfunc='max')\n",
    "del state_county_data\n",
    "\n",
    "## Merge supplementary data\n",
    "supp_data_county = pd.read_csv('data/FoodEnvironmentAtlas/SupplementalDataCounty.csv')\n",
    "supp_data_county['County'] = [c if 'County' not in c else c[:-7] for c in supp_data_county['County']]\n",
    "supp_data_county['CountySt'] = supp_data_county['County'].str.cat(supp_data_county['State'], sep=',')\n",
    "supp_data_county = supp_data_county.pivot(index=\"CountySt\", columns=\"Variable_Code\", values=\"Value\")\n",
    "df = df.join(supp_data_county, how=\"left\")\n",
    "df.drop(supp_data_county.columns[1:], axis=1, inplace=True)\n",
    "del supp_data_county\n",
    "\n",
    "## Merge heart disease mortality\n",
    "hdm = pd.read_csv('data/HeartDiseaseMortality/Heart_Disease_Mortality.csv')\n",
    "hdm = hdm.loc[(hdm[\"Stratification1\"]==\"Overall\") & (hdm[\"Stratification2\"]==\"Overall\"), [\"LocationAbbr\", \"LocationDesc\", \"Data_Value\"]]\n",
    "hdm.rename(columns={'LocationAbbr': 'State', 'LocationDesc': 'County', 'Data_Value': 'HDM'}, inplace=True)\n",
    "hdm['County'] = [c if 'County' not in c else c[:-7] for c in hdm['County']]\n",
    "hdm['CountySt'] = hdm['County'].str.cat(hdm['State'], sep=', ')\n",
    "hdm.drop(['State', 'County'], axis=1, inplace=True)\n",
    "hdm.set_index('CountySt', inplace=True)\n",
    "df = df.join(hdm, how='left')\n",
    "del hdm\n",
    "\n",
    "## Merge life expectancy\n",
    "life_expectancy = pd.read_csv('data/LifeExpectancy/U.S._Life_Expectancy.csv')\n",
    "life_expectancy.dropna(axis=0, how='any', inplace=True)\n",
    "life_expectancy['County'] = life_expectancy['County'].str.replace(' County', '')\n",
    "life_expectancy.rename(columns={'County': 'CountySt'}, inplace=True)\n",
    "life_expectancy = life_expectancy[['CountySt','Life Expectancy']].groupby(['CountySt']).mean()\n",
    "df = df.join(life_expectancy, how='left')\n",
    "del life_expectancy"
   ],
   "id": "854fd01daec2f281",
   "outputs": [],
   "execution_count": 4
  }
 ],
 "metadata": {
  "kernelspec": {
   "display_name": "Python 3",
   "language": "python",
   "name": "python3"
  },
  "language_info": {
   "codemirror_mode": {
    "name": "ipython",
    "version": 2
   },
   "file_extension": ".py",
   "mimetype": "text/x-python",
   "name": "python",
   "nbconvert_exporter": "python",
   "pygments_lexer": "ipython2",
   "version": "2.7.6"
  }
 },
 "nbformat": 4,
 "nbformat_minor": 5
}
